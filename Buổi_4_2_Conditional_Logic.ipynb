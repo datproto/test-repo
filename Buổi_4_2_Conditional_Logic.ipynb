{
  "nbformat": 4,
  "nbformat_minor": 0,
  "metadata": {
    "colab": {
      "name": "Buổi 4.2: Conditional Logic.ipynb",
      "provenance": [],
      "collapsed_sections": [],
      "authorship_tag": "ABX9TyNEgv59R3TuITsmwWFJk5gP",
      "include_colab_link": true
    },
    "kernelspec": {
      "name": "python3",
      "display_name": "Python 3"
    },
    "language_info": {
      "name": "python"
    }
  },
  "cells": [
    {
      "cell_type": "markdown",
      "metadata": {
        "id": "view-in-github",
        "colab_type": "text"
      },
      "source": [
        "<a href=\"https://colab.research.google.com/github/datproto/test-repo/blob/main/Bu%E1%BB%95i_4_2_Conditional_Logic.ipynb\" target=\"_parent\"><img src=\"https://colab.research.google.com/assets/colab-badge.svg\" alt=\"Open In Colab\"/></a>"
      ]
    },
    {
      "cell_type": "markdown",
      "metadata": {
        "id": "gYByRrowh_gk"
      },
      "source": [
        "Conditonal Logic chính là các phép toán tử so sánh\n",
        "\n",
        "![image.png](data:image/png;base64,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)"
      ]
    },
    {
      "cell_type": "code",
      "metadata": {
        "colab": {
          "base_uri": "https://localhost:8080/"
        },
        "id": "Tzzk54XYiSPz",
        "outputId": "8dfc862c-d315-4096-a89b-6c5107368be9"
      },
      "source": [
        "print(\"a\" == \"a\")\n",
        "print(3 == 1)\n",
        "print(3 != 1)"
      ],
      "execution_count": 11,
      "outputs": [
        {
          "output_type": "stream",
          "text": [
            "True\n",
            "False\n",
            "True\n"
          ],
          "name": "stdout"
        }
      ]
    },
    {
      "cell_type": "markdown",
      "metadata": {
        "id": "gDdSI4Leiwwo"
      },
      "source": [
        "# Kết hợp nhiều **Logic** với nhau\n",
        "\n",
        "Ví dụ: Muốn kiểm tra xem con vật a là mèo hay chó\n",
        "1. Con vật có 4 chân và có đuôi\n",
        "2. Con vật kêu \"Meow\" thì là mèo\n",
        "3. Con vật kêu \"Gâu Gâu\" thì là chó\n",
        "\n",
        "Những keyword để kết hợp các điều kiện:\n",
        "*   And\n",
        "*   Or\n",
        "*   Not"
      ]
    },
    {
      "cell_type": "code",
      "metadata": {
        "colab": {
          "base_uri": "https://localhost:8080/",
          "height": 35
        },
        "id": "mW9XudVbjL6e",
        "outputId": "388e875b-529c-4bdd-cfe2-5e5d4531f3fb"
      },
      "source": [
        "def kiem_tra(animal):\n",
        "  if type(animal) is list:\n",
        "    if con_vat[0] == 4 and con_vat[1] == True:\n",
        "      if con_vat[2] == \"Meow\":\n",
        "        return \"Con mèo\"\n",
        "      elif con_vat[2] == \"Gâu gâu\":\n",
        "        return \"Con chó\"\n",
        "      else:\n",
        "        return \"Không phải mèo cũng không phải chó!\"\n",
        "    else:\n",
        "      return \"Đây không phải con vật đang tìm kiếm!\"\n",
        "  else:\n",
        "    return \"Vui lòng đưa thông tin của một con vật đủng format!\"\n",
        "\n",
        "con_vat = [4, True, \"Meow\"]\n",
        "kiem_tra(con_vat)"
      ],
      "execution_count": 51,
      "outputs": [
        {
          "output_type": "execute_result",
          "data": {
            "application/vnd.google.colaboratory.intrinsic+json": {
              "type": "string"
            },
            "text/plain": [
              "'Con mèo'"
            ]
          },
          "metadata": {
            "tags": []
          },
          "execution_count": 51
        }
      ]
    },
    {
      "cell_type": "code",
      "metadata": {
        "colab": {
          "base_uri": "https://localhost:8080/",
          "height": 69
        },
        "id": "CnnaLwzQnHpU",
        "outputId": "b597754f-55cf-4835-f336-346a67451e90"
      },
      "source": [
        "con_vat = [1, True, \"Gâu gâu\"] # [số_chân, có_đuôi_không, tiếng_kêu]\n",
        "\n",
        "def kiem_tra2(animal):\n",
        "  if type(animal) is list:\n",
        "    print(\"Bắt đầu kiểm tra!\")\n",
        "    print(\"\")\n",
        "\n",
        "    if con_vat[0] == 4 and con_vat[1] is True and con_vat[2] == \"Meow\":\n",
        "      return \"Con mèo\"\n",
        "    elif con_vat[0] == 4 and con_vat[1] is True and con_vat[2] == \"Gâu gâu\":\n",
        "      return \"Cho chó\"\n",
        "    else:\n",
        "      return \"Đây không phải con vật đang tìm kiếm!\"\n",
        "  else:\n",
        "    return \"Vui lòng đưa thông tin của một con vật đủng format!\"\n",
        "\n",
        "kiem_tra2(con_vat)"
      ],
      "execution_count": 31,
      "outputs": [
        {
          "output_type": "stream",
          "text": [
            "Bắt đầu kiểm tra!\n",
            "\n"
          ],
          "name": "stdout"
        },
        {
          "output_type": "execute_result",
          "data": {
            "application/vnd.google.colaboratory.intrinsic+json": {
              "type": "string"
            },
            "text/plain": [
              "'Đây không phải con vật đang tìm kiếm!'"
            ]
          },
          "metadata": {
            "tags": []
          },
          "execution_count": 31
        }
      ]
    },
    {
      "cell_type": "code",
      "metadata": {
        "colab": {
          "base_uri": "https://localhost:8080/",
          "height": 266
        },
        "id": "XX7OBSlPoUr2",
        "outputId": "c7548777-6cd5-4c1c-b8b8-502145371265"
      },
      "source": [
        "# Kiểm thử kết quả\n",
        "import unittest\n",
        "\n",
        "class Test(unittest.TestCase):\n",
        "  def test_kiemtra(self):\n",
        "    self.assertEqual(kiem_tra([4, True, \"Gâu gâu\"]), 'Con mèo')\n",
        "  \n",
        "unittest.main(argv=[''], verbosity=2)  "
      ],
      "execution_count": 58,
      "outputs": [
        {
          "output_type": "stream",
          "text": [
            "test_kiemtra (__main__.Test) ... ok\n",
            "\n",
            "----------------------------------------------------------------------\n",
            "Ran 1 test in 0.004s\n",
            "\n",
            "OK\n"
          ],
          "name": "stderr"
        },
        {
          "output_type": "error",
          "ename": "SystemExit",
          "evalue": "ignored",
          "traceback": [
            "An exception has occurred, use %tb to see the full traceback.\n",
            "\u001b[0;31mSystemExit\u001b[0m\u001b[0;31m:\u001b[0m False\n"
          ]
        },
        {
          "output_type": "stream",
          "text": [
            "/usr/local/lib/python3.7/dist-packages/IPython/core/interactiveshell.py:2890: UserWarning: To exit: use 'exit', 'quit', or Ctrl-D.\n",
            "  warn(\"To exit: use 'exit', 'quit', or Ctrl-D.\", stacklevel=1)\n"
          ],
          "name": "stderr"
        }
      ]
    },
    {
      "cell_type": "markdown",
      "metadata": {
        "id": "9TF7FaMqrfU2"
      },
      "source": [
        "**Bài tập**\n",
        "\n",
        "1. Làm hết bài tập chapter 8.\n",
        "2. Áp dụng thử 2 cách Debug: Try - Except và Doctest"
      ]
    }
  ]
}